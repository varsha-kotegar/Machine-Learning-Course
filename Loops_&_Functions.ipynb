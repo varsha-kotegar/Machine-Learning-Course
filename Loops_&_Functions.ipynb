{
  "nbformat": 4,
  "nbformat_minor": 0,
  "metadata": {
    "colab": {
      "provenance": [],
      "authorship_tag": "ABX9TyPAlbLs9im0NFFNb+RVPFmy",
      "include_colab_link": true
    },
    "kernelspec": {
      "name": "python3",
      "display_name": "Python 3"
    },
    "language_info": {
      "name": "python"
    }
  },
  "cells": [
    {
      "cell_type": "markdown",
      "metadata": {
        "id": "view-in-github",
        "colab_type": "text"
      },
      "source": [
        "<a href=\"https://colab.research.google.com/github/varsha-kotegar/Machine-Learning-Course/blob/main/Loops_%26_Functions.ipynb\" target=\"_parent\"><img src=\"https://colab.research.google.com/assets/colab-badge.svg\" alt=\"Open In Colab\"/></a>"
      ]
    },
    {
      "cell_type": "markdown",
      "source": [
        "for loop"
      ],
      "metadata": {
        "id": "E5b3VUYuOT7d"
      }
    },
    {
      "cell_type": "code",
      "execution_count": null,
      "metadata": {
        "colab": {
          "base_uri": "https://localhost:8080/"
        },
        "id": "6yjEmkyzOND3",
        "outputId": "cdf5934f-954d-440c-91f3-be9659ae947a"
      },
      "outputs": [
        {
          "name": "stdout",
          "output_type": "stream",
          "text": [
            "Enter the price of laptop 20000\n",
            "Enter the price of laptop 80000\n",
            "Enter the price of laptop 90000\n",
            "Enter the price of laptop 79999\n",
            "Enter the price of laptop 56666\n"
          ]
        }
      ],
      "source": [
        "for i in range(5): #0,1,2,3,4\n",
        "  laptop_price = int(input(\"Enter the price of laptop \"))"
      ]
    },
    {
      "cell_type": "code",
      "source": [
        "numbers = [200,499,246,4972]\n",
        "\n",
        "for i in numbers:\n",
        "  print(i)"
      ],
      "metadata": {
        "colab": {
          "base_uri": "https://localhost:8080/"
        },
        "id": "ki-kZU63OoR_",
        "outputId": "2f8fb505-20bb-4cd5-93ab-74d6c13ece86"
      },
      "execution_count": null,
      "outputs": [
        {
          "output_type": "stream",
          "name": "stdout",
          "text": [
            "200\n",
            "499\n",
            "246\n",
            "4972\n"
          ]
        }
      ]
    },
    {
      "cell_type": "markdown",
      "source": [
        "while loop"
      ],
      "metadata": {
        "id": "dJ1SOMwiPxkG"
      }
    },
    {
      "cell_type": "code",
      "source": [
        "i=2\n",
        "while i<10:\n",
        "  print(i)\n",
        "  i=i+1"
      ],
      "metadata": {
        "colab": {
          "base_uri": "https://localhost:8080/"
        },
        "id": "TY0pQ5NxPvcc",
        "outputId": "0f97c8fb-30f1-40b4-e2de-6aa3dfc3f0d3"
      },
      "execution_count": null,
      "outputs": [
        {
          "output_type": "stream",
          "name": "stdout",
          "text": [
            "2\n",
            "3\n",
            "4\n",
            "5\n",
            "6\n",
            "7\n",
            "8\n",
            "9\n"
          ]
        }
      ]
    },
    {
      "cell_type": "markdown",
      "source": [
        "#Functions\n",
        "- a block of code can be used again and again"
      ],
      "metadata": {
        "id": "xz6v7vG3QQgf"
      }
    },
    {
      "cell_type": "code",
      "source": [
        "number = int(input(\"Enter a number\"))\n",
        "\n",
        "if number==0:\n",
        "  print(\"Factorial of 0 is \", 0)\n",
        "\n",
        "else:\n",
        "  fact =1\n",
        "  for i in range(1, number+1):\n",
        "    fact *= i\n",
        "  print(\"Factorial of \", number, \"is\", fact)"
      ],
      "metadata": {
        "colab": {
          "base_uri": "https://localhost:8080/"
        },
        "id": "6wAvDyQNP-_d",
        "outputId": "c2b8f417-ef8b-4e5e-8618-b3ac83ec320a"
      },
      "execution_count": null,
      "outputs": [
        {
          "output_type": "stream",
          "name": "stdout",
          "text": [
            "Enter a number5\n",
            "Factorial of  5 is 120\n"
          ]
        }
      ]
    },
    {
      "cell_type": "markdown",
      "source": [
        "Factorial function"
      ],
      "metadata": {
        "id": "_g-Q17zHRbhX"
      }
    },
    {
      "cell_type": "code",
      "source": [
        "def factorial_value(num):\n",
        "  fact = 1\n",
        "  if num == 0:\n",
        "    return fact\n",
        "  else:\n",
        "    for i in range(1, num+1):\n",
        "      fact *= i\n",
        "    return fact\n",
        "\n",
        "print(factorial_value(4))"
      ],
      "metadata": {
        "colab": {
          "base_uri": "https://localhost:8080/"
        },
        "id": "hIrKBZ22RK7C",
        "outputId": "96dd010e-5af4-4853-8c95-d1f1be9ed645"
      },
      "execution_count": null,
      "outputs": [
        {
          "output_type": "stream",
          "name": "stdout",
          "text": [
            "24\n"
          ]
        }
      ]
    },
    {
      "cell_type": "code",
      "source": [],
      "metadata": {
        "id": "LItImB59Wk4v"
      },
      "execution_count": null,
      "outputs": []
    }
  ]
}