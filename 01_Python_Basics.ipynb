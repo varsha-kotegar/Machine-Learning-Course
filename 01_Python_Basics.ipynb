{
  "nbformat": 4,
  "nbformat_minor": 0,
  "metadata": {
    "colab": {
      "provenance": [],
      "authorship_tag": "ABX9TyOf0b5F/qCpewtnYduWQDpf",
      "include_colab_link": true
    },
    "kernelspec": {
      "name": "python3",
      "display_name": "Python 3"
    },
    "language_info": {
      "name": "python"
    }
  },
  "cells": [
    {
      "cell_type": "markdown",
      "metadata": {
        "id": "view-in-github",
        "colab_type": "text"
      },
      "source": [
        "<a href=\"https://colab.research.google.com/github/varsha-kotegar/Machine-Learning-Course/blob/main/Python_Basics.ipynb\" target=\"_parent\"><img src=\"https://colab.research.google.com/assets/colab-badge.svg\" alt=\"Open In Colab\"/></a>"
      ]
    },
    {
      "cell_type": "markdown",
      "source": [
        "print function"
      ],
      "metadata": {
        "id": "dRMkLx8biDP5"
      }
    },
    {
      "cell_type": "code",
      "execution_count": null,
      "metadata": {
        "colab": {
          "base_uri": "https://localhost:8080/"
        },
        "id": "3v2vre3HhsI-",
        "outputId": "beb71552-03df-4781-a2d8-753dd51f8520"
      },
      "outputs": [
        {
          "output_type": "stream",
          "name": "stdout",
          "text": [
            "Varsha\n"
          ]
        }
      ],
      "source": [
        "print('Varsha')"
      ]
    },
    {
      "cell_type": "markdown",
      "source": [
        "#Data types\n",
        "\n",
        "1. int\n",
        "2. float\n",
        "3. str"
      ],
      "metadata": {
        "id": "o9dkc_D3kU-1"
      }
    },
    {
      "cell_type": "code",
      "source": [
        "type('varsha')"
      ],
      "metadata": {
        "colab": {
          "base_uri": "https://localhost:8080/"
        },
        "id": "TONT-vy2kTKH",
        "outputId": "311f907e-6dab-44bd-ae4f-b1fad9db43b7"
      },
      "execution_count": null,
      "outputs": [
        {
          "output_type": "execute_result",
          "data": {
            "text/plain": [
              "str"
            ]
          },
          "metadata": {},
          "execution_count": 2
        }
      ]
    },
    {
      "cell_type": "code",
      "source": [
        "type('4')"
      ],
      "metadata": {
        "colab": {
          "base_uri": "https://localhost:8080/"
        },
        "id": "TPjHapzikgA7",
        "outputId": "ca6cac4e-6592-4995-994f-21fa250da6cb"
      },
      "execution_count": null,
      "outputs": [
        {
          "output_type": "execute_result",
          "data": {
            "text/plain": [
              "str"
            ]
          },
          "metadata": {},
          "execution_count": 3
        }
      ]
    },
    {
      "cell_type": "code",
      "source": [
        "type('5f')"
      ],
      "metadata": {
        "colab": {
          "base_uri": "https://localhost:8080/"
        },
        "id": "7rxjpqtZkhsR",
        "outputId": "77b511d2-f1df-45c5-9cee-495d4f5d1ed9"
      },
      "execution_count": null,
      "outputs": [
        {
          "output_type": "execute_result",
          "data": {
            "text/plain": [
              "str"
            ]
          },
          "metadata": {},
          "execution_count": 4
        }
      ]
    },
    {
      "cell_type": "code",
      "source": [
        "type(8.9)"
      ],
      "metadata": {
        "colab": {
          "base_uri": "https://localhost:8080/"
        },
        "id": "CnTjZtbfkkey",
        "outputId": "ecde9042-3249-479f-c692-b4658aad87d0"
      },
      "execution_count": null,
      "outputs": [
        {
          "output_type": "execute_result",
          "data": {
            "text/plain": [
              "float"
            ]
          },
          "metadata": {},
          "execution_count": 6
        }
      ]
    },
    {
      "cell_type": "code",
      "source": [],
      "metadata": {
        "id": "qBBQ8pZvkmiO"
      },
      "execution_count": null,
      "outputs": []
    },
    {
      "cell_type": "markdown",
      "source": [
        "#Constants & Variables"
      ],
      "metadata": {
        "id": "9ME14KXKlAUh"
      }
    },
    {
      "cell_type": "code",
      "source": [
        "marvel_super_hero = \"Iron Man\"\n",
        "print(marvel_super_hero)"
      ],
      "metadata": {
        "colab": {
          "base_uri": "https://localhost:8080/"
        },
        "id": "r1dyqkawlEYN",
        "outputId": "a9c0fccf-4c19-472d-f70e-fdac62aa1779"
      },
      "execution_count": null,
      "outputs": [
        {
          "output_type": "stream",
          "name": "stdout",
          "text": [
            "Iron Man\n"
          ]
        }
      ]
    },
    {
      "cell_type": "code",
      "source": [
        "hero1,hero2,hero3 = \"Iron Man\",\"Captain America\",\"Bat Man\"\n",
        "print(hero1)\n",
        "print(hero2)\n",
        "print(hero3)"
      ],
      "metadata": {
        "colab": {
          "base_uri": "https://localhost:8080/"
        },
        "id": "6Vo2_4EYla8G",
        "outputId": "908b514d-1125-4003-b59b-b9e2c36bb079"
      },
      "execution_count": null,
      "outputs": [
        {
          "output_type": "stream",
          "name": "stdout",
          "text": [
            "Iron Man\n",
            "Captain America\n",
            "Bat Man\n"
          ]
        }
      ]
    },
    {
      "cell_type": "code",
      "source": [
        "a = b = c = \"49\"\n",
        "print(a,b,c)"
      ],
      "metadata": {
        "colab": {
          "base_uri": "https://localhost:8080/"
        },
        "id": "gihiZ4cQlsAl",
        "outputId": "24e16e9e-d779-4cb7-9fb0-491f9f1652da"
      },
      "execution_count": null,
      "outputs": [
        {
          "output_type": "stream",
          "name": "stdout",
          "text": [
            "49 49 49\n"
          ]
        }
      ]
    },
    {
      "cell_type": "markdown",
      "source": [
        "#Input Functions"
      ],
      "metadata": {
        "id": "LjLhXCxLmlwR"
      }
    },
    {
      "cell_type": "code",
      "source": [
        "number1 = input(\"Enter the first number : \")\n",
        "number2 = input(\"enter the second number : \")\n",
        "\n",
        "sum = number1 + number2\n",
        "print(sum)"
      ],
      "metadata": {
        "id": "pBjsE00JmF8O",
        "colab": {
          "base_uri": "https://localhost:8080/"
        },
        "outputId": "3a047f46-7567-4413-9708-4ce779b1dbd1"
      },
      "execution_count": null,
      "outputs": [
        {
          "output_type": "stream",
          "name": "stdout",
          "text": [
            "Enter the first number : 28\n",
            "enter the second number : 87\n",
            "2887\n"
          ]
        }
      ]
    },
    {
      "cell_type": "code",
      "source": [
        "number1 = int(input(\"Enter the first number : \"))\n",
        "number2 = int(input(\"enter the second number : \"))\n",
        "\n",
        "sum = number1 + number2\n",
        "print(sum)"
      ],
      "metadata": {
        "colab": {
          "base_uri": "https://localhost:8080/"
        },
        "id": "tXF-NqQHm3g-",
        "outputId": "33b3ac5b-1e41-4568-fccd-59259445130b"
      },
      "execution_count": null,
      "outputs": [
        {
          "output_type": "stream",
          "name": "stdout",
          "text": [
            "Enter the first number : 28\n",
            "enter the second number : 87\n",
            "115\n"
          ]
        }
      ]
    },
    {
      "cell_type": "markdown",
      "source": [
        "#Changing the data type"
      ],
      "metadata": {
        "id": "mlk6iDdknc6v"
      }
    },
    {
      "cell_type": "code",
      "source": [
        "num =5\n",
        "print(float(num))\n"
      ],
      "metadata": {
        "colab": {
          "base_uri": "https://localhost:8080/"
        },
        "id": "K5yYd5IbnWIL",
        "outputId": "473d7918-22b0-4db8-b87d-f01b6486b40f"
      },
      "execution_count": null,
      "outputs": [
        {
          "output_type": "stream",
          "name": "stdout",
          "text": [
            "5.0\n"
          ]
        }
      ]
    },
    {
      "cell_type": "code",
      "source": [],
      "metadata": {
        "id": "QQ97b1FqnoPA"
      },
      "execution_count": null,
      "outputs": []
    },
    {
      "cell_type": "markdown",
      "source": [
        "#Basics Data Types\n",
        "\n",
        "1. Integer\n",
        "2. Floating\n",
        "3. Complex\n",
        "4. Boolean\n",
        "5. String"
      ],
      "metadata": {
        "id": "a1gxEE7mn8Fi"
      }
    },
    {
      "cell_type": "code",
      "source": [
        "#integers\n",
        "a=5\n",
        "print(a)\n",
        "type(a)"
      ],
      "metadata": {
        "colab": {
          "base_uri": "https://localhost:8080/"
        },
        "id": "CGE_PPiTn_hV",
        "outputId": "904f12fd-a913-49a9-9906-175ac3bf85bc"
      },
      "execution_count": null,
      "outputs": [
        {
          "output_type": "stream",
          "name": "stdout",
          "text": [
            "5\n"
          ]
        },
        {
          "output_type": "execute_result",
          "data": {
            "text/plain": [
              "int"
            ]
          },
          "metadata": {},
          "execution_count": 15
        }
      ]
    },
    {
      "cell_type": "code",
      "source": [
        "#floating point\n",
        "b= 5.7\n",
        "print(b)\n",
        "type(b)"
      ],
      "metadata": {
        "colab": {
          "base_uri": "https://localhost:8080/"
        },
        "id": "Smgh0kLcoSUl",
        "outputId": "dce81a62-2d7c-4e62-e810-68c3b0bf1a49"
      },
      "execution_count": null,
      "outputs": [
        {
          "output_type": "stream",
          "name": "stdout",
          "text": [
            "5.7\n"
          ]
        },
        {
          "output_type": "execute_result",
          "data": {
            "text/plain": [
              "float"
            ]
          },
          "metadata": {},
          "execution_count": 16
        }
      ]
    },
    {
      "cell_type": "code",
      "source": [
        "#complex numbers\n",
        "c = 1+3j\n",
        "print(c)\n",
        "type(c)"
      ],
      "metadata": {
        "colab": {
          "base_uri": "https://localhost:8080/"
        },
        "id": "tnrls6NFoZBi",
        "outputId": "7c44435e-c844-4fee-f69b-de5f64c4d673"
      },
      "execution_count": null,
      "outputs": [
        {
          "output_type": "stream",
          "name": "stdout",
          "text": [
            "(1+3j)\n"
          ]
        },
        {
          "output_type": "execute_result",
          "data": {
            "text/plain": [
              "complex"
            ]
          },
          "metadata": {},
          "execution_count": 17
        }
      ]
    },
    {
      "cell_type": "markdown",
      "source": [
        "#Boolean\n",
        "1. True\n",
        "2. False"
      ],
      "metadata": {
        "id": "3AlFtnS1o3tl"
      }
    },
    {
      "cell_type": "code",
      "source": [
        "a = True #First letter should be capital\n",
        "print(a)\n",
        "type(a)"
      ],
      "metadata": {
        "colab": {
          "base_uri": "https://localhost:8080/"
        },
        "id": "z2qp7KIiogij",
        "outputId": "da1fab93-7030-48e2-e087-bce5dbc0305c"
      },
      "execution_count": null,
      "outputs": [
        {
          "output_type": "stream",
          "name": "stdout",
          "text": [
            "True\n"
          ]
        },
        {
          "output_type": "execute_result",
          "data": {
            "text/plain": [
              "bool"
            ]
          },
          "metadata": {},
          "execution_count": 20
        }
      ]
    },
    {
      "cell_type": "code",
      "source": [
        "b = 7 < 4\n",
        "print(b)\n",
        "type(b)"
      ],
      "metadata": {
        "colab": {
          "base_uri": "https://localhost:8080/"
        },
        "id": "5B7F4rkHpCJS",
        "outputId": "6de3f89c-1af4-4129-a879-276373273174"
      },
      "execution_count": null,
      "outputs": [
        {
          "output_type": "stream",
          "name": "stdout",
          "text": [
            "False\n"
          ]
        },
        {
          "output_type": "execute_result",
          "data": {
            "text/plain": [
              "bool"
            ]
          },
          "metadata": {},
          "execution_count": 21
        }
      ]
    },
    {
      "cell_type": "markdown",
      "source": [
        "#Strings"
      ],
      "metadata": {
        "id": "QM2K_MqKpY4I"
      }
    },
    {
      "cell_type": "code",
      "source": [
        "myString = \"Hello\"\n",
        "print(myString)"
      ],
      "metadata": {
        "colab": {
          "base_uri": "https://localhost:8080/"
        },
        "id": "rM50qhUepTjE",
        "outputId": "2ac05049-55fc-4292-9a82-3fae5262f8fb"
      },
      "execution_count": null,
      "outputs": [
        {
          "output_type": "stream",
          "name": "stdout",
          "text": [
            "Hello\n"
          ]
        }
      ]
    },
    {
      "cell_type": "code",
      "source": [
        "print(myString*5)"
      ],
      "metadata": {
        "colab": {
          "base_uri": "https://localhost:8080/"
        },
        "id": "9zTi_l5bpnlc",
        "outputId": "b8b381a1-1a7e-4c72-a253-a1d371763639"
      },
      "execution_count": null,
      "outputs": [
        {
          "output_type": "stream",
          "name": "stdout",
          "text": [
            "HelloHelloHelloHelloHello\n"
          ]
        }
      ]
    },
    {
      "cell_type": "markdown",
      "source": [
        "slicing"
      ],
      "metadata": {
        "id": "sldV5lCdqBTJ"
      }
    },
    {
      "cell_type": "code",
      "source": [
        "str1 = \"Programming\"\n",
        "print(str1[1:5])"
      ],
      "metadata": {
        "colab": {
          "base_uri": "https://localhost:8080/"
        },
        "id": "jm-YEYaQprKP",
        "outputId": "12d47942-8a2e-41c1-b440-382d2d9bb534"
      },
      "execution_count": null,
      "outputs": [
        {
          "output_type": "stream",
          "name": "stdout",
          "text": [
            "rogr\n"
          ]
        }
      ]
    },
    {
      "cell_type": "code",
      "source": [
        "print(str1[0:10:2])"
      ],
      "metadata": {
        "colab": {
          "base_uri": "https://localhost:8080/"
        },
        "id": "KI0XRT-bp2lM",
        "outputId": "bb3a07d3-fb7a-4a52-ff79-697b96f29591"
      },
      "execution_count": null,
      "outputs": [
        {
          "output_type": "stream",
          "name": "stdout",
          "text": [
            "Pormi\n"
          ]
        }
      ]
    },
    {
      "cell_type": "markdown",
      "source": [
        "String Concatination"
      ],
      "metadata": {
        "id": "KKjqM_0xqRsV"
      }
    },
    {
      "cell_type": "markdown",
      "source": [],
      "metadata": {
        "id": "IqYgkRI0qReH"
      }
    },
    {
      "cell_type": "code",
      "source": [
        "word1 = \"Machine\"\n",
        "word2 = \"Learning\"\n",
        "print(word1 + \" \" + word2)"
      ],
      "metadata": {
        "colab": {
          "base_uri": "https://localhost:8080/"
        },
        "id": "Vy3nQcZUqHvn",
        "outputId": "d19cc06c-45e0-4890-9607-149d17dccc2f"
      },
      "execution_count": null,
      "outputs": [
        {
          "output_type": "stream",
          "name": "stdout",
          "text": [
            "Machine Learning\n"
          ]
        }
      ]
    },
    {
      "cell_type": "code",
      "source": [],
      "metadata": {
        "id": "VM0A4QKMqYxo"
      },
      "execution_count": null,
      "outputs": []
    }
  ]
}
