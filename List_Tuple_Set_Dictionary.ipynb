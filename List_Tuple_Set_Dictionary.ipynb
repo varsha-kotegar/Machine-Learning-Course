{
  "nbformat": 4,
  "nbformat_minor": 0,
  "metadata": {
    "colab": {
      "provenance": [],
      "authorship_tag": "ABX9TyPmYTqvujy0dKB965TyMKw+",
      "include_colab_link": true
    },
    "kernelspec": {
      "name": "python3",
      "display_name": "Python 3"
    },
    "language_info": {
      "name": "python"
    }
  },
  "cells": [
    {
      "cell_type": "markdown",
      "metadata": {
        "id": "view-in-github",
        "colab_type": "text"
      },
      "source": [
        "<a href=\"https://colab.research.google.com/github/varsha-kotegar/Machine-Learning-Course/blob/main/List_Tuple_Set_Dictionary.ipynb\" target=\"_parent\"><img src=\"https://colab.research.google.com/assets/colab-badge.svg\" alt=\"Open In Colab\"/></a>"
      ]
    },
    {
      "cell_type": "markdown",
      "source": [
        "Types of Objects in Python\n",
        "1. Immutable Objects\n",
        "2. Mutable Objects - Can be changed\n",
        "\n",
        "Immutable Objects:\n",
        "1. Int\n",
        "2. float\n",
        "3. String\n",
        "4. bool\n",
        "5. tuple\n",
        "\n",
        "Mutable Objects\n",
        "1. List\n",
        "2. Set\n",
        "3. Dictonary"
      ],
      "metadata": {
        "id": "9YG7mXzJu1FU"
      }
    },
    {
      "cell_type": "markdown",
      "source": [
        "List - should be in [ ] , can have multiple data types, can have duplicate values\n",
        "\n"
      ],
      "metadata": {
        "id": "mYBafxlivYza"
      }
    },
    {
      "cell_type": "code",
      "execution_count": null,
      "metadata": {
        "colab": {
          "base_uri": "https://localhost:8080/"
        },
        "id": "2ygwTGAHqrQu",
        "outputId": "0d008138-d994-4e07-f67c-19b79c8da46f"
      },
      "outputs": [
        {
          "output_type": "stream",
          "name": "stdout",
          "text": [
            "[1, 2, 3, 4, 5]\n"
          ]
        },
        {
          "output_type": "execute_result",
          "data": {
            "text/plain": [
              "list"
            ]
          },
          "metadata": {},
          "execution_count": 1
        }
      ],
      "source": [
        "myList = [1,2,3,4,5]\n",
        "print(myList)\n",
        "type(myList)"
      ]
    },
    {
      "cell_type": "code",
      "source": [
        "list1 = [2,4,\"Hii\",5.8]\n",
        "print(list1)\n",
        "\n",
        "#add elements\n",
        "list1.append(\"Hello\")\n",
        "print(list1)\n",
        "\n",
        "#remove elements\n",
        "list1.remove(2)\n",
        "print(list1)\n"
      ],
      "metadata": {
        "colab": {
          "base_uri": "https://localhost:8080/"
        },
        "id": "dmITNgwQvlxa",
        "outputId": "1d308734-dd9a-40be-cb36-eec17b14d68a"
      },
      "execution_count": null,
      "outputs": [
        {
          "output_type": "stream",
          "name": "stdout",
          "text": [
            "[2, 4, 'Hii', 5.8]\n",
            "[2, 4, 'Hii', 5.8, 'Hello']\n",
            "[4, 'Hii', 5.8, 'Hello']\n"
          ]
        }
      ]
    },
    {
      "cell_type": "code",
      "source": [
        "print(list1[2])"
      ],
      "metadata": {
        "colab": {
          "base_uri": "https://localhost:8080/"
        },
        "id": "99UEkDx8wAkC",
        "outputId": "540c103e-c558-446c-e945-c22747f5e000"
      },
      "execution_count": null,
      "outputs": [
        {
          "output_type": "stream",
          "name": "stdout",
          "text": [
            "5.8\n"
          ]
        }
      ]
    },
    {
      "cell_type": "code",
      "source": [
        "print(len(list1))"
      ],
      "metadata": {
        "colab": {
          "base_uri": "https://localhost:8080/"
        },
        "id": "aWq0wg8SwGxi",
        "outputId": "bf32cc96-3d66-41a6-adb2-4c15d891840a"
      },
      "execution_count": null,
      "outputs": [
        {
          "output_type": "stream",
          "name": "stdout",
          "text": [
            "4\n"
          ]
        }
      ]
    },
    {
      "cell_type": "code",
      "source": [
        " list1.append(\"damn\")\n",
        " print(list1)\n",
        "\n",
        " del list1[2]\n",
        " print(list1)"
      ],
      "metadata": {
        "colab": {
          "base_uri": "https://localhost:8080/"
        },
        "id": "1RJWhzsdwXoe",
        "outputId": "7d5f5c06-e493-4423-97db-23d9af301cd1"
      },
      "execution_count": null,
      "outputs": [
        {
          "output_type": "stream",
          "name": "stdout",
          "text": [
            "[4, 'Hii', 5.8, 'Hello', 'damn']\n",
            "[4, 'Hii', 'Hello', 'damn']\n"
          ]
        }
      ]
    },
    {
      "cell_type": "code",
      "source": [
        "list2 = [1,2,3,4]\n",
        "list3 = [5,\"a\",\"b\"]\n",
        "\n",
        "list4 = list2 + list3\n",
        "print(list4)"
      ],
      "metadata": {
        "colab": {
          "base_uri": "https://localhost:8080/"
        },
        "id": "V8xDfwW9xcLD",
        "outputId": "6aaa2731-29f9-4d9d-f8dc-4b28d1e5cae3"
      },
      "execution_count": null,
      "outputs": [
        {
          "output_type": "stream",
          "name": "stdout",
          "text": [
            "[1, 2, 3, 4, 5, 'a', 'b']\n"
          ]
        }
      ]
    },
    {
      "cell_type": "markdown",
      "source": [
        "**Tuple**, allows multiple data types, ( ) brcakets, immutable"
      ],
      "metadata": {
        "id": "af_p2A6gx1u4"
      }
    },
    {
      "cell_type": "code",
      "source": [
        "tuple1 = (1,2,3,4)\n",
        "print(tuple1)\n",
        "type(tuple1)"
      ],
      "metadata": {
        "colab": {
          "base_uri": "https://localhost:8080/"
        },
        "id": "35lqq6dZxqn5",
        "outputId": "ff20c1dc-41dd-42ef-da02-646c671ae545"
      },
      "execution_count": null,
      "outputs": [
        {
          "output_type": "stream",
          "name": "stdout",
          "text": [
            "(1, 2, 3, 4)\n"
          ]
        },
        {
          "output_type": "execute_result",
          "data": {
            "text/plain": [
              "tuple"
            ]
          },
          "metadata": {},
          "execution_count": 9
        }
      ]
    },
    {
      "cell_type": "code",
      "source": [
        "tuple2 = (1,\"a\",\"b\",2)\n",
        "print(tuple2)"
      ],
      "metadata": {
        "colab": {
          "base_uri": "https://localhost:8080/"
        },
        "id": "m-i6D2TIx69i",
        "outputId": "d862d235-f337-4147-d95c-aaeed3d2031f"
      },
      "execution_count": null,
      "outputs": [
        {
          "output_type": "stream",
          "name": "stdout",
          "text": [
            "(1, 'a', 'b', 2)\n"
          ]
        }
      ]
    },
    {
      "cell_type": "code",
      "source": [
        "#coverting a list to a tuple\n",
        "list1 = [1,2,3,4]\n",
        "print(list1)\n",
        "type(list1)\n",
        "\n",
        "tuple3 = tuple(list1)\n",
        "print(tuple3)\n",
        "type(tuple3)"
      ],
      "metadata": {
        "colab": {
          "base_uri": "https://localhost:8080/"
        },
        "id": "Dg_X-F9UyQK2",
        "outputId": "82eacc96-ec57-429d-d208-91fd6c8a8647"
      },
      "execution_count": null,
      "outputs": [
        {
          "output_type": "stream",
          "name": "stdout",
          "text": [
            "[1, 2, 3, 4]\n",
            "(1, 2, 3, 4)\n"
          ]
        },
        {
          "output_type": "execute_result",
          "data": {
            "text/plain": [
              "tuple"
            ]
          },
          "metadata": {},
          "execution_count": 11
        }
      ]
    },
    {
      "cell_type": "code",
      "source": [
        "print(tuple3[1])"
      ],
      "metadata": {
        "colab": {
          "base_uri": "https://localhost:8080/"
        },
        "id": "Czlzv_pZyYnP",
        "outputId": "84f66645-2ac4-46e4-eb88-c6372a083a64"
      },
      "execution_count": null,
      "outputs": [
        {
          "output_type": "stream",
          "name": "stdout",
          "text": [
            "2\n"
          ]
        }
      ]
    },
    {
      "cell_type": "markdown",
      "source": [
        "Tuple are immutable -> Unchangeable"
      ],
      "metadata": {
        "id": "ZwPngLZUynYy"
      }
    },
    {
      "cell_type": "code",
      "source": [],
      "metadata": {
        "id": "czyqh5KkykMD"
      },
      "execution_count": null,
      "outputs": []
    },
    {
      "cell_type": "markdown",
      "source": [
        "**Set**, --> Curly Brakets, does  not allow duplicate values\n"
      ],
      "metadata": {
        "id": "az4X-u8ky6rO"
      }
    },
    {
      "cell_type": "code",
      "source": [
        "my_set = {1,2,3,4,5}\n",
        "print(my_set)\n",
        "type(my_set)"
      ],
      "metadata": {
        "colab": {
          "base_uri": "https://localhost:8080/"
        },
        "id": "D1kyseYBzHwi",
        "outputId": "2fe2a724-2dde-4349-f21a-23a80e1204d3"
      },
      "execution_count": null,
      "outputs": [
        {
          "output_type": "stream",
          "name": "stdout",
          "text": [
            "{1, 2, 3, 4, 5}\n"
          ]
        },
        {
          "output_type": "execute_result",
          "data": {
            "text/plain": [
              "set"
            ]
          },
          "metadata": {},
          "execution_count": 13
        }
      ]
    },
    {
      "cell_type": "code",
      "source": [
        "#convert a list to a set\n",
        "list5 =[3,45,2,5]\n",
        "x = set(list5)\n",
        "print(x)\n",
        "type(x)"
      ],
      "metadata": {
        "colab": {
          "base_uri": "https://localhost:8080/"
        },
        "id": "dIuc76dWzM0B",
        "outputId": "8ac7dda6-5e05-40b3-b8ca-9f0a20463efb"
      },
      "execution_count": null,
      "outputs": [
        {
          "output_type": "stream",
          "name": "stdout",
          "text": [
            "{5, 2, 3, 45}\n"
          ]
        },
        {
          "output_type": "execute_result",
          "data": {
            "text/plain": [
              "set"
            ]
          },
          "metadata": {},
          "execution_count": 14
        }
      ]
    },
    {
      "cell_type": "markdown",
      "source": [
        "**Dictonary**, { }, Key value pair, doesn't allow duplicate values"
      ],
      "metadata": {
        "id": "bBeMnT5c1akG"
      }
    },
    {
      "cell_type": "code",
      "source": [
        "myDic = { 'name' : 'Advi', 'age': 38, 'city': 'Pune'}\n",
        "print(myDic)\n",
        "type(myDic)"
      ],
      "metadata": {
        "colab": {
          "base_uri": "https://localhost:8080/"
        },
        "id": "t7JYH-xq0NM0",
        "outputId": "56df5be1-42f4-4abd-a635-16ccd2079b17"
      },
      "execution_count": null,
      "outputs": [
        {
          "output_type": "stream",
          "name": "stdout",
          "text": [
            "{'name': 'Advi', 'age': 38, 'city': 'Pune'}\n"
          ]
        },
        {
          "output_type": "execute_result",
          "data": {
            "text/plain": [
              "dict"
            ]
          },
          "metadata": {},
          "execution_count": 15
        }
      ]
    },
    {
      "cell_type": "code",
      "source": [
        "print(myDic['name'])\n",
        "print(myDic['age'])\n",
        "print(myDic['city'])"
      ],
      "metadata": {
        "colab": {
          "base_uri": "https://localhost:8080/"
        },
        "id": "wYNf_fH81qfw",
        "outputId": "6785600a-765c-46a0-fc1c-99cc3bed344b"
      },
      "execution_count": null,
      "outputs": [
        {
          "output_type": "stream",
          "name": "stdout",
          "text": [
            "Advi\n",
            "38\n",
            "Pune\n"
          ]
        }
      ]
    },
    {
      "cell_type": "code",
      "source": [],
      "metadata": {
        "id": "zKgVdToQ1wlZ"
      },
      "execution_count": null,
      "outputs": []
    }
  ]
}